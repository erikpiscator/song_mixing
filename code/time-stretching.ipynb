{
 "cells": [
  {
   "cell_type": "code",
   "execution_count": 1,
   "id": "1ca849da-82d6-4153-b989-b90d83a5a9da",
   "metadata": {},
   "outputs": [],
   "source": [
    "# Rubberband wrapper: https://pypi.org/project/rubberband/\n",
    "# I have seen that there are multiple wrappers for rubberband \n",
    "# but I found this one to work nicely.\n",
    "\n",
    "# The loading is done with 'soundfile' but could probably be done \n",
    "# with pydub or whatever.\n",
    "\n",
    "import soundfile\n",
    "import rubberband as rb"
   ]
  },
  {
   "cell_type": "code",
   "execution_count": 8,
   "id": "8a4d4141-96bc-41fc-9607-a0e72db0cece",
   "metadata": {},
   "outputs": [
    {
     "name": "stdout",
     "output_type": "stream",
     "text": [
      "Raw input type is : <class 'numpy.ndarray'>\n"
     ]
    }
   ],
   "source": [
    "data,rate = soundfile.read('../songs/dev_songs/ES_Earn It - Heyson.wav',dtype='int16')\n",
    "\n",
    "# need to make it mono. This is probably done in a better way in the actual code.\n",
    "data = data[:,0]\n",
    "\n",
    "# Don't know what bitrate is used for. It was in the example on rubberband homepage\n",
    "# but we might remove it if it is of no use.\n",
    "bitrate=rate*16\n",
    "nFrames=len(data)\n",
    "print(f'Raw input type is : {type(data)}')"
   ]
  },
  {
   "cell_type": "code",
   "execution_count": 9,
   "id": "25eebac9-4e85-43b2-9ca1-fed07f2796af",
   "metadata": {},
   "outputs": [
    {
     "name": "stdout",
     "output_type": "stream",
     "text": [
      "212.09010416666666\n",
      "1.4144931522323698\n"
     ]
    }
   ],
   "source": [
    "oldDuration=nFrames/rate\n",
    "newDuration=300\n",
    "ratio=newDuration/oldDuration\n",
    "\n",
    "print(oldDuration)\n",
    "print(ratio)"
   ]
  },
  {
   "cell_type": "code",
   "execution_count": 12,
   "id": "a4feedc6-17a3-4a3e-ade2-59491f8644c3",
   "metadata": {},
   "outputs": [],
   "source": [
    "out=rb.stretch(data,rate=rate,ratio=ratio,crispness=5,formants=False,precise=True)\n",
    "soundfile.write('../songs/dev_songs/ES_Earn It - Heyson-time-stretch.wav',out,rate,'PCM_16')"
   ]
  },
  {
   "cell_type": "code",
   "execution_count": null,
   "id": "b80e5809-92ee-449f-b1f3-6e732e70f4b9",
   "metadata": {},
   "outputs": [],
   "source": [
    "# We need to figure out how to find the 'stretch ratio' from the \n",
    "# difference in BPM between two songs."
   ]
  }
 ],
 "metadata": {
  "kernelspec": {
   "display_name": "Python 3 (ipykernel)",
   "language": "python",
   "name": "python3"
  },
  "language_info": {
   "codemirror_mode": {
    "name": "ipython",
    "version": 3
   },
   "file_extension": ".py",
   "mimetype": "text/x-python",
   "name": "python",
   "nbconvert_exporter": "python",
   "pygments_lexer": "ipython3",
   "version": "3.9.7"
  }
 },
 "nbformat": 4,
 "nbformat_minor": 5
}
